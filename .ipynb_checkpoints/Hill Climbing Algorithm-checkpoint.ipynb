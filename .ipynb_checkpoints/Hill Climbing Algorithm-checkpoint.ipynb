{
 "cells": [
  {
   "cell_type": "code",
   "execution_count": 1,
   "metadata": {},
   "outputs": [],
   "source": [
    "import random \n",
    "import string \n",
    "import tqdm\n",
    "from IPython.display import clear_output"
   ]
  },
  {
   "cell_type": "code",
   "execution_count": 2,
   "metadata": {},
   "outputs": [],
   "source": [
    "def generate_random_solution(length=13): \n",
    "    return [random.choice(string.printable) for _ in range(length)] "
   ]
  },
  {
   "cell_type": "code",
   "execution_count": 3,
   "metadata": {},
   "outputs": [],
   "source": [
    "def evaluate(solution): \n",
    "    target = list(\"Hello, World!\") \n",
    "    diff = 0\n",
    "    for i in range(len(target)): \n",
    "        s = solution[i] \n",
    "        t = target[i] \n",
    "        diff += abs(ord(s) - ord(t)) \n",
    "    return diff "
   ]
  },
  {
   "cell_type": "code",
   "execution_count": 4,
   "metadata": {},
   "outputs": [],
   "source": [
    "def mutate_solution(solution): \n",
    "    new_solution = solution\n",
    "    index = random.randint(0, len(solution) - 1)\n",
    "    new_solution[index] = random.choice(string.printable) \n",
    "    return new_solution"
   ]
  },
  {
   "cell_type": "code",
   "execution_count": 5,
   "metadata": {},
   "outputs": [],
   "source": [
    "best = generate_random_solution() \n",
    "best_score = evaluate(best) "
   ]
  },
  {
   "cell_type": "code",
   "execution_count": 6,
   "metadata": {},
   "outputs": [
    {
     "name": "stdout",
     "output_type": "stream",
     "text": [
      "Best score so far 1 Solution Hello, Wormd!\n",
      "iteartion: 42699\n"
     ]
    }
   ],
   "source": [
    "iteration = 0\n",
    "while True:\n",
    "    print('Best score so far', best_score, 'Solution', \"\".join(best)) \n",
    "    print(\"iteartion:\",iteration)\n",
    "    if best_score == 0: \n",
    "        break\n",
    "\n",
    "    new_solution = list(best) \n",
    "    mutate_solution(new_solution) \n",
    "\n",
    "    score = evaluate(mutate_solution(new_solution)) \n",
    "    if evaluate(new_solution) < best_score: \n",
    "        best = new_solution \n",
    "        best_score = score\n",
    "    clear_output(wait=True)\n",
    "    iteration += 1\n",
    "        \n",
    "# pbar.close()"
   ]
  },
  {
   "cell_type": "code",
   "execution_count": null,
   "metadata": {},
   "outputs": [],
   "source": []
  }
 ],
 "metadata": {
  "kernelspec": {
   "display_name": "Python 3",
   "language": "python",
   "name": "python3"
  },
  "language_info": {
   "codemirror_mode": {
    "name": "ipython",
    "version": 3
   },
   "file_extension": ".py",
   "mimetype": "text/x-python",
   "name": "python",
   "nbconvert_exporter": "python",
   "pygments_lexer": "ipython3",
   "version": "3.5.6"
  }
 },
 "nbformat": 4,
 "nbformat_minor": 4
}
