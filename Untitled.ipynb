{
 "cells": [
  {
   "cell_type": "code",
   "execution_count": 1,
   "metadata": {},
   "outputs": [],
   "source": [
    "import pandas as pd"
   ]
  },
  {
   "cell_type": "code",
   "execution_count": 13,
   "metadata": {},
   "outputs": [],
   "source": [
    "data = [[10], [ 15], [ 14]]\n",
    "students = [[1,[0,1]], [2,[1,2]], [ 3,[0,1,2]]] \n",
    "exams = pd.DataFrame(data, columns = ['Duration'])\n",
    "students = pd.DataFrame(students, columns = ['studentNumber','exam'])"
   ]
  },
  {
   "cell_type": "code",
   "execution_count": 14,
   "metadata": {},
   "outputs": [
    {
     "data": {
      "text/html": [
       "<div>\n",
       "<style scoped>\n",
       "    .dataframe tbody tr th:only-of-type {\n",
       "        vertical-align: middle;\n",
       "    }\n",
       "\n",
       "    .dataframe tbody tr th {\n",
       "        vertical-align: top;\n",
       "    }\n",
       "\n",
       "    .dataframe thead th {\n",
       "        text-align: right;\n",
       "    }\n",
       "</style>\n",
       "<table border=\"1\" class=\"dataframe\">\n",
       "  <thead>\n",
       "    <tr style=\"text-align: right;\">\n",
       "      <th></th>\n",
       "      <th>Duration</th>\n",
       "    </tr>\n",
       "  </thead>\n",
       "  <tbody>\n",
       "    <tr>\n",
       "      <th>0</th>\n",
       "      <td>10</td>\n",
       "    </tr>\n",
       "    <tr>\n",
       "      <th>1</th>\n",
       "      <td>15</td>\n",
       "    </tr>\n",
       "    <tr>\n",
       "      <th>2</th>\n",
       "      <td>14</td>\n",
       "    </tr>\n",
       "  </tbody>\n",
       "</table>\n",
       "</div>"
      ],
      "text/plain": [
       "   Duration\n",
       "0        10\n",
       "1        15\n",
       "2        14"
      ]
     },
     "execution_count": 14,
     "metadata": {},
     "output_type": "execute_result"
    }
   ],
   "source": [
    "exams"
   ]
  },
  {
   "cell_type": "code",
   "execution_count": 15,
   "metadata": {},
   "outputs": [
    {
     "data": {
      "text/html": [
       "<div>\n",
       "<style scoped>\n",
       "    .dataframe tbody tr th:only-of-type {\n",
       "        vertical-align: middle;\n",
       "    }\n",
       "\n",
       "    .dataframe tbody tr th {\n",
       "        vertical-align: top;\n",
       "    }\n",
       "\n",
       "    .dataframe thead th {\n",
       "        text-align: right;\n",
       "    }\n",
       "</style>\n",
       "<table border=\"1\" class=\"dataframe\">\n",
       "  <thead>\n",
       "    <tr style=\"text-align: right;\">\n",
       "      <th></th>\n",
       "      <th>studentNumber</th>\n",
       "      <th>exam</th>\n",
       "    </tr>\n",
       "  </thead>\n",
       "  <tbody>\n",
       "    <tr>\n",
       "      <th>0</th>\n",
       "      <td>1</td>\n",
       "      <td>[0, 1]</td>\n",
       "    </tr>\n",
       "    <tr>\n",
       "      <th>1</th>\n",
       "      <td>2</td>\n",
       "      <td>[1, 2]</td>\n",
       "    </tr>\n",
       "    <tr>\n",
       "      <th>2</th>\n",
       "      <td>3</td>\n",
       "      <td>[0, 1, 2]</td>\n",
       "    </tr>\n",
       "  </tbody>\n",
       "</table>\n",
       "</div>"
      ],
      "text/plain": [
       "   studentNumber       exam\n",
       "0              1     [0, 1]\n",
       "1              2     [1, 2]\n",
       "2              3  [0, 1, 2]"
      ]
     },
     "execution_count": 15,
     "metadata": {},
     "output_type": "execute_result"
    }
   ],
   "source": [
    "students"
   ]
  },
  {
   "cell_type": "code",
   "execution_count": 18,
   "metadata": {},
   "outputs": [
    {
     "ename": "NameError",
     "evalue": "name 'Exam' is not defined",
     "output_type": "error",
     "traceback": [
      "\u001b[0;31m---------------------------------------------------------------------------\u001b[0m",
      "\u001b[0;31mNameError\u001b[0m                                 Traceback (most recent call last)",
      "\u001b[0;32m<ipython-input-18-e733a6b7c275>\u001b[0m in \u001b[0;36m<module>\u001b[0;34m()\u001b[0m\n\u001b[1;32m     27\u001b[0m             \u001b[0;32mif\u001b[0m\u001b[0;34m(\u001b[0m\u001b[0mlineType\u001b[0m \u001b[0;34m==\u001b[0m \u001b[0;34m'Exams'\u001b[0m\u001b[0;34m)\u001b[0m\u001b[0;34m:\u001b[0m\u001b[0;34m\u001b[0m\u001b[0m\n\u001b[1;32m     28\u001b[0m                 \u001b[0marr\u001b[0m \u001b[0;34m=\u001b[0m \u001b[0mline\u001b[0m\u001b[0;34m.\u001b[0m\u001b[0msplit\u001b[0m\u001b[0;34m(\u001b[0m\u001b[0;34m','\u001b[0m\u001b[0;34m)\u001b[0m\u001b[0;34m\u001b[0m\u001b[0m\n\u001b[0;32m---> 29\u001b[0;31m                 \u001b[0me1\u001b[0m \u001b[0;34m=\u001b[0m \u001b[0mExam\u001b[0m\u001b[0;34m(\u001b[0m\u001b[0marr\u001b[0m\u001b[0;34m[\u001b[0m\u001b[0;36m0\u001b[0m\u001b[0;34m]\u001b[0m\u001b[0;34m,\u001b[0m\u001b[0mlen\u001b[0m\u001b[0;34m(\u001b[0m\u001b[0marr\u001b[0m\u001b[0;34m)\u001b[0m\u001b[0;34m)\u001b[0m\u001b[0;34m\u001b[0m\u001b[0m\n\u001b[0m\u001b[1;32m     30\u001b[0m                 \u001b[0mexams\u001b[0m\u001b[0;34m.\u001b[0m\u001b[0mappend\u001b[0m\u001b[0;34m(\u001b[0m\u001b[0me1\u001b[0m\u001b[0;34m)\u001b[0m\u001b[0;34m\u001b[0m\u001b[0m\n\u001b[1;32m     31\u001b[0m \u001b[0;34m\u001b[0m\u001b[0m\n",
      "\u001b[0;31mNameError\u001b[0m: name 'Exam' is not defined"
     ]
    }
   ],
   "source": [
    "exams = []\n",
    "constraints = []\n",
    "periods = []\n",
    "rooms = []\n",
    "with open(\"test.exam\") as f:\n",
    "        for line in f:\n",
    "            if \"Exams\" in line:\n",
    "                line = f.readline()\n",
    "                lineType = \"Exams\"\n",
    "            if \"Periods\" in line:\n",
    "                line = f.readline()\n",
    "                lineType = \"Periods\"\n",
    "            if \"Rooms\" in line:\n",
    "                line = f.readline()\n",
    "                lineType = \"Rooms\"\n",
    "            if \"PeriodHardConstraints\" in line:\n",
    "                line = f.readline()\n",
    "                lineType = \"PeriodHardConstraints\"\n",
    "                line = f.readline()\n",
    "            if \"RoomHardConstraints\" in line:\n",
    "                line = f.readline()\n",
    "                lineType = \"RoomHardConstraints\"\n",
    "            if \"InstitutionalWeightings\" in line:\n",
    "                line = f.readline()\n",
    "                lineType = \"InstitutionalWeightings\"\n",
    "             \n",
    "            if(lineType == 'Exams'):\n",
    "                arr = line.split(',')\n",
    "                e1 = Exam(arr[0],len(arr))\n",
    "                exams.append(e1)\n",
    "\n",
    "            if(lineType == 'PeriodHardConstraints'):\n",
    "                arr = line.split(',')\n",
    "                c1 = Constraint(\"period\",arr[1],arr[1:2])\n",
    "                constraints.append(e1)\n",
    "\n",
    "            if(lineType == 'RoomHardConstraints'):\n",
    "                arr = line.split(',')\n",
    "            if len(arr) > 1 :\n",
    "                c1 = Constraint(\"room\",arr[1],arr[0])\n",
    "            else:\n",
    "                c1 = Constraint(\"room\",arr[0],None)\n",
    "            constraints.append(c1)\n",
    "\n",
    "            \n",
    "            if(lineType == 'Periods'):\n",
    "                arr = line.split(',')\n",
    "                p1 = Period(arr[0],arr[1],arr[2],arr[3])\n",
    "                periods.append(p1)\n",
    "\n",
    "            \n",
    "            if(lineType == 'Rooms'):\n",
    "                arr = line.split(',')\n",
    "                r1 = Room(arr[0],arr[1])\n",
    "                rooms.append(r1)"
   ]
  },
  {
   "cell_type": "code",
   "execution_count": null,
   "metadata": {},
   "outputs": [],
   "source": []
  }
 ],
 "metadata": {
  "kernelspec": {
   "display_name": "Python 3",
   "language": "python",
   "name": "python3"
  },
  "language_info": {
   "codemirror_mode": {
    "name": "ipython",
    "version": 3
   },
   "file_extension": ".py",
   "mimetype": "text/x-python",
   "name": "python",
   "nbconvert_exporter": "python",
   "pygments_lexer": "ipython3",
   "version": "3.5.6"
  }
 },
 "nbformat": 4,
 "nbformat_minor": 4
}
